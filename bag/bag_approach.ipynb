{
 "cells": [
  {
   "cell_type": "code",
   "execution_count": 1,
   "metadata": {},
   "outputs": [
    {
     "data": {
      "text/html": [
       "<table style=\"border: 2px solid white;\">\n",
       "<tr>\n",
       "<td style=\"vertical-align: top; border: 0px solid white\">\n",
       "<h3 style=\"text-align: left;\">Client</h3>\n",
       "<ul style=\"text-align: left; list-style: none; margin: 0; padding: 0;\">\n",
       "  <li><b>Scheduler: </b>tcp://127.0.0.1:45739</li>\n",
       "  <li><b>Dashboard: </b><a href='http://127.0.0.1:8787/status' target='_blank'>http://127.0.0.1:8787/status</a>\n",
       "</ul>\n",
       "</td>\n",
       "<td style=\"vertical-align: top; border: 0px solid white\">\n",
       "<h3 style=\"text-align: left;\">Cluster</h3>\n",
       "<ul style=\"text-align: left; list-style:none; margin: 0; padding: 0;\">\n",
       "  <li><b>Workers: </b>4</li>\n",
       "  <li><b>Cores: </b>4</li>\n",
       "  <li><b>Memory: </b>16.46 GB</li>\n",
       "</ul>\n",
       "</td>\n",
       "</tr>\n",
       "</table>"
      ],
      "text/plain": [
       "<Client: 'tcp://127.0.0.1:45739' processes=4 threads=4, memory=16.46 GB>"
      ]
     },
     "execution_count": 1,
     "metadata": {},
     "output_type": "execute_result"
    }
   ],
   "source": [
    "from dask.distributed import Client, progress\n",
    "client = Client(n_workers=4, threads_per_worker=1)\n",
    "client"
   ]
  },
  {
   "cell_type": "code",
   "execution_count": 18,
   "metadata": {},
   "outputs": [
    {
     "name": "stderr",
     "output_type": "stream",
     "text": [
      "yt : [WARNING  ] 2020-02-27 15:13:56,982 'field_units' was overridden by 'dataset_units/density'\n",
      "yt : [WARNING  ] 2020-02-27 15:13:56,985 'field_units' was overridden by 'dataset_units/energy_density'\n",
      "yt : [WARNING  ] 2020-02-27 15:13:56,990 'field_units' was overridden by 'dataset_units/level'\n",
      "yt : [WARNING  ] 2020-02-27 15:13:57,006 'field_units' was overridden by 'dataset_units/velocity_x'\n",
      "yt : [WARNING  ] 2020-02-27 15:13:57,011 'field_units' was overridden by 'dataset_units/velocity_y'\n",
      "yt : [WARNING  ] 2020-02-27 15:13:57,019 'field_units' was overridden by 'dataset_units/velocity_z'\n",
      "yt : [INFO     ] 2020-02-27 15:13:57,043 Parameters: current_time              = [5.07311964e-05]\n",
      "yt : [INFO     ] 2020-02-27 15:13:57,045 Parameters: domain_dimensions         = [64 64 64]\n",
      "yt : [INFO     ] 2020-02-27 15:13:57,045 Parameters: domain_left_edge          = [-1. -1. -1.]\n",
      "yt : [INFO     ] 2020-02-27 15:13:57,046 Parameters: domain_right_edge         = [1. 1. 1.]\n",
      "yt : [INFO     ] 2020-02-27 15:13:57,047 Parameters: cosmological_simulation   = 0.0\n"
     ]
    }
   ],
   "source": [
    "import numpy as np\n",
    "import dask.bag as db\n",
    "import yt\n",
    "from yt.utilities.lib.pixelization_routines import pixelize_cartesian\n",
    "\n",
    "ds = yt.load(\"sedov_piernik.h5\")\n",
    "\n",
    "z = 0.0\n",
    "\n",
    "data = []\n",
    "for grid in ds.index.grids:\n",
    "    data.append(\n",
    "        {\n",
    "            \"data\": grid[\"density\"].d,\n",
    "            \"LE\": grid.LeftEdge.d,\n",
    "            \"RE\": grid.RightEdge.d,\n",
    "            \"dds\": grid.dds.d,\n",
    "        }\n",
    "    )\n",
    "\n",
    "\n",
    "def intersects(chunk):\n",
    "    return chunk[\"LE\"][2] <= z and z < chunk[\"RE\"][2]\n",
    "\n",
    "\n",
    "def compute(chunk):\n",
    "    dds = chunk[\"dds\"]\n",
    "    LE = chunk[\"LE\"] + dds * 0.5\n",
    "    RE = chunk[\"RE\"] - dds * 0.5\n",
    "    nslice = int((z - LE[2]) * dds[2])\n",
    "\n",
    "    data = chunk[\"data\"][..., nslice]\n",
    "    N = data.shape\n",
    "    px, py = np.mgrid[LE[0] : RE[0] : N[0] * 1j, LE[1] : RE[1] : N[1] * 1j]\n",
    "\n",
    "    return {\n",
    "        \"data\": data.ravel().astype(np.float64),\n",
    "        \"px\": px.ravel(),\n",
    "        \"py\": py.ravel(),\n",
    "        \"pdx\": (np.ones(N) * dds[0]).ravel(),\n",
    "        \"pdy\": (np.ones(N) * dds[1]).ravel(),\n",
    "    }\n",
    "\n",
    "\n",
    "def combine_chunks(acc, chunk):\n",
    "    for key in (\"data\", \"px\", \"py\", \"pdx\", \"pdy\"):\n",
    "        acc[key] = np.concatenate((acc[key], chunk[key]))\n",
    "    return acc\n",
    "\n",
    "b = db.from_sequence(data)\n",
    "data_source = b.filter(intersects).map(compute).fold(combine_chunks).compute()\n",
    "\n",
    "buff = np.zeros((512, 512), dtype=\"f8\")\n",
    "period = ds.domain_width.d\n",
    "antialias = True\n",
    "periodic = False\n",
    "bounds = [\n",
    "    ds.domain_left_edge[0].d,\n",
    "    ds.domain_right_edge[0].d,\n",
    "    ds.domain_left_edge[1].d,\n",
    "    ds.domain_right_edge[1].d,\n",
    "]\n",
    "pixelize_cartesian(\n",
    "    buff,\n",
    "    data_source[\"px\"],\n",
    "    data_source[\"py\"],\n",
    "    data_source[\"pdx\"],\n",
    "    data_source[\"pdy\"],\n",
    "    data_source[\"data\"],\n",
    "    bounds,\n",
    "    int(antialias),\n",
    "    period,\n",
    "    int(periodic),\n",
    ")"
   ]
  },
  {
   "cell_type": "code",
   "execution_count": 19,
   "metadata": {},
   "outputs": [
    {
     "data": {
      "text/plain": [
       "<matplotlib.image.AxesImage at 0x7f0f6dc61470>"
      ]
     },
     "execution_count": 19,
     "metadata": {},
     "output_type": "execute_result"
    },
    {
     "data": {
      "image/png": "[encoded data removed]",
      "text/plain": [
       "<Figure size 432x288 with 1 Axes>"
      ]
     },
     "metadata": {
      "needs_background": "light"
     },
     "output_type": "display_data"
    }
   ],
   "source": [
    "%matplotlib inline\n",
    "from matplotlib.pyplot import imshow\n",
    "imshow(buff)"
   ]
  },
  {
   "cell_type": "code",
   "execution_count": null,
   "metadata": {},
   "outputs": [],
   "source": []
  }
 ],
 "metadata": {
  "kernelspec": {
   "display_name": "Python 3",
   "language": "python",
   "name": "python3"
  },
  "language_info": {
   "codemirror_mode": {
    "name": "ipython",
    "version": 3
   },
   "file_extension": ".py",
   "mimetype": "text/x-python",
   "name": "python",
   "nbconvert_exporter": "python",
   "pygments_lexer": "ipython3",
   "version": "3.6.9"
  }
 },
 "nbformat": 4,
 "nbformat_minor": 4
}
